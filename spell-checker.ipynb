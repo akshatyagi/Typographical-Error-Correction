{
 "cells": [
  {
   "cell_type": "code",
   "execution_count": 32,
   "metadata": {},
   "outputs": [],
   "source": [
    "import re\n",
    "import math\n",
    "import string\n",
    "from collections import Counter\n",
    "from __future__ import division\n",
    "import pandas as pd\n",
    "\n",
    " \n",
    "corpus = Counter(re.findall(r'\\w+', open('big.txt').read().lower()))\n",
    "X = pd.read_csv('test.csv')\n",
    "X.drop(['ID'] ,axis=1, inplace=True)\n",
    "\n",
    "x = list()\n",
    "fp = open('spell-errors.txt')\n",
    "for line in fp:\n",
    "    word = line.split(\": \")\n",
    "    tba = (word[0]).strip()\n",
    "    x.append(tba)\n",
    "    \n",
    "word2 = Counter(x)\n",
    "WORDS = WORDS+word2\n",
    "\n",
    "#Operations\n",
    "def P(w): \n",
    "    n = WORDS[w] \n",
    "    m = sum(list(WORDS.values())) \n",
    "    return (n +1 / m +2)  \n",
    "    \n",
    "def correction(word):    \n",
    "    #return max(candidates(word), key=P)\n",
    "    current_prob = 0\n",
    "    w = ''\n",
    "    for c in candidates(word):\n",
    "        prob = P(c)* (corpus[word] + 1/sum(list(corpus.values())) +2) \n",
    "        if prob > current_prob:\n",
    "            current_prob = prob\n",
    "            w = c\n",
    "    return w\n",
    "\n",
    "def candidates(word): return (known([word]) or known(edits1(word)) or known(edits2(word)) or [word])\n",
    "def known(words): return set(w for w in words if w in WORDS)\n",
    "\n",
    "def edits0(word): return word\n",
    "\n",
    "def edits1(word):\n",
    "    letters    = 'abcdefghijklmnopqrstuvwxyz'\n",
    "    splits     = [(word[:i], word[i:])    for i in range(len(word) + 1)]\n",
    "    deletes    = [L + R[1:]               for L, R in splits if R]\n",
    "    transposes = [L + R[1] + R[0] + R[2:] for L, R in splits if len(R)>1]\n",
    "    replaces   = [L + c + R[1:]           for L, R in splits if R for c in letters]\n",
    "    inserts    = [L + c + R               for L, R in splits for c in letters]\n",
    "    return set(deletes + transposes + replaces + inserts)\n",
    "\n",
    "def edits2(word): \n",
    "    return (e2 for e1 in edits1(word) for e2 in edits1(e1))\n",
    "\n",
    "\n",
    "result = []\n",
    "\n",
    "for word in X.iterrows():\n",
    "    result.append(correction(word[1]['WRONG']))\n",
    "ids = pd.Series(range(0,504))\n",
    "resultz = pd.DataFrame({'ID':ids, 'CORRECT':result})\n",
    "resultz=resultz.reindex(columns=['ID','CORRECT'])\n",
    "resultz.to_csv('output_t1.csv', index=False)\n",
    "\n",
    "\n"
   ]
  },
  {
   "cell_type": "code",
   "execution_count": 5,
   "metadata": {},
   "outputs": [
    {
     "data": {
      "text/plain": [
       "42"
      ]
     },
     "execution_count": 5,
     "metadata": {},
     "output_type": "execute_result"
    }
   ],
   "source": [
    "ord(\"*\")"
   ]
  },
  {
   "cell_type": "code",
   "execution_count": null,
   "metadata": {
    "collapsed": true
   },
   "outputs": [],
   "source": []
  }
 ],
 "metadata": {
  "kernelspec": {
   "display_name": "Python 3",
   "language": "python",
   "name": "python3"
  },
  "language_info": {
   "codemirror_mode": {
    "name": "ipython",
    "version": 3
   },
   "file_extension": ".py",
   "mimetype": "text/x-python",
   "name": "python",
   "nbconvert_exporter": "python",
   "pygments_lexer": "ipython3",
   "version": "3.6.3"
  }
 },
 "nbformat": 4,
 "nbformat_minor": 2
}
